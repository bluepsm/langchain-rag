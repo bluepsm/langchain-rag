{
 "cells": [
  {
   "cell_type": "code",
   "execution_count": 1,
   "id": "6487e379-9280-461d-8af3-42f4c35c2b98",
   "metadata": {},
   "outputs": [],
   "source": [
    "%%capture --no-stderr\n",
    "%pip install langchain chromadb==0.5.3 sentence_transformers langchain_community\n",
    "%pip install langchain-google-vertexai"
   ]
  },
  {
   "cell_type": "markdown",
   "id": "a7872f80-d865-4ddc-b924-f573d269af12",
   "metadata": {},
   "source": [
    "Set environment keys"
   ]
  },
  {
   "cell_type": "code",
   "execution_count": 2,
   "id": "8ebe2d4e-237b-4bfd-a88b-65edc93b00b5",
   "metadata": {},
   "outputs": [],
   "source": [
    "import getpass\n",
    "import os\n",
    "\n",
    "os.environ[\"LANGCHAIN_TRACING_V2\"] = \"true\"\n",
    "os.environ[\"LANGCHAIN_API_KEY\"] = getpass.getpass()\n",
    "os.environ[\"LANGCHAIN_ENDPOINT\"] = \"https://api.smith.langchain.com\"\n",
    "os.environ[\"GOOGLE_API_KEY\"] = getpass.getpass()\n",
    "os.environ[\"OPENAI_API_KEY\"] = getpass.getpass()"
   ]
  },
  {
   "cell_type": "markdown",
   "id": "883f5a68-c8ba-4659-a5fa-d030df6a0ffd",
   "metadata": {},
   "source": [
    "Create documents"
   ]
  },
  {
   "cell_type": "code",
   "execution_count": 3,
   "id": "85acc27b-38f1-41ab-9585-75440c71b47e",
   "metadata": {},
   "outputs": [],
   "source": [
    "from langchain_core.documents import Document\n",
    "\n",
    "documents = [\n",
    "    Document(\n",
    "        page_content=\"Dogs are great companions, known for their loyalty and friendliness.\",\n",
    "        metadata={\"source\": \"mammal-pets-doc\"},\n",
    "    ),\n",
    "    Document(\n",
    "        page_content=\"Cats are independent pets that often enjoy their own space.\",\n",
    "        metadata={\"source\": \"mammal-pets-doc\"},\n",
    "    ),\n",
    "    Document(\n",
    "        page_content=\"Goldfish are popular pets for beginners, requiring relatively simple care.\",\n",
    "        metadata={\"source\": \"fish-pets-doc\"},\n",
    "    ),\n",
    "    Document(\n",
    "        page_content=\"Parrots are intelligent birds capable of mimicking human speech.\",\n",
    "        metadata={\"source\": \"bird-pets-doc\"},\n",
    "    ),\n",
    "    Document(\n",
    "        page_content=\"Rabbits are social animals that need plenty of space to hop around.\",\n",
    "        metadata={\"source\": \"mammal-pets-doc\"},\n",
    "    ),\n",
    "]"
   ]
  },
  {
   "cell_type": "markdown",
   "id": "6aba121a-0117-44a2-bc0b-a4f366314b78",
   "metadata": {},
   "source": [
    "Create collection and embedded"
   ]
  },
  {
   "cell_type": "code",
   "execution_count": 4,
   "id": "390e3a34-2b5e-4992-a412-71d8b4ade7e7",
   "metadata": {},
   "outputs": [
    {
     "name": "stderr",
     "output_type": "stream",
     "text": [
      "/opt/conda/lib/python3.10/site-packages/sentence_transformers/cross_encoder/CrossEncoder.py:11: TqdmExperimentalWarning: Using `tqdm.autonotebook.tqdm` in notebook mode. Use `tqdm.tqdm` instead to force console mode (e.g. in jupyter console)\n",
      "  from tqdm.autonotebook import tqdm, trange\n"
     ]
    }
   ],
   "source": [
    "# from langchain_chroma import Chroma\n",
    "from chromadb import Client\n",
    "from chromadb.config import Settings\n",
    "from sentence_transformers import SentenceTransformer\n",
    "\n",
    "# vectorstore = Chroma.from_documents(\n",
    "#     documents,\n",
    "#     embedding=OpenAIEmbeddings(),\n",
    "# )\n",
    "\n",
    "# Initialize ChromaDB\n",
    "client = Client()\n",
    "collection = client.create_collection(\"pets_collection\")\n",
    "\n",
    "# Prepare document contents for embedding\n",
    "document_texts = [doc.page_content for doc in documents]\n",
    "\n",
    "# Initialize a sentence-transformer model\n",
    "model = SentenceTransformer('all-MiniLM-L6-v2')\n",
    "\n",
    "# Get embeddings for the documents\n",
    "document_embeddings = model.encode(document_texts)\n",
    "\n",
    "# Process and store documents in ChromaDB\n",
    "for i, (embedding, doc) in enumerate(zip(document_embeddings, documents)):\n",
    "    collection.add(\n",
    "        ids=[f\"doc_{i}\"],\n",
    "        embeddings=[embedding.tolist()],\n",
    "        metadatas=[doc.metadata],\n",
    "        documents=[doc.page_content],\n",
    "    )"
   ]
  },
  {
   "cell_type": "markdown",
   "id": "862f6d01-07dc-43b8-8e21-87e7990a6be0",
   "metadata": {},
   "source": [
    "Example similarity document query"
   ]
  },
  {
   "cell_type": "code",
   "execution_count": 5,
   "id": "4d2690b5-33be-487d-beba-df1c5265e8af",
   "metadata": {
    "tags": []
   },
   "outputs": [
    {
     "name": "stdout",
     "output_type": "stream",
     "text": [
      "Document: Dogs are great companions, known for their loyalty and friendliness.\n",
      "Metadata: {'source': 'mammal-pets-doc'}\n",
      "Similarity Score: 1.1311126947402954\n",
      "\n",
      "Document: Cats are independent pets that often enjoy their own space.\n",
      "Metadata: {'source': 'mammal-pets-doc'}\n",
      "Similarity Score: 1.5269932746887207\n",
      "\n",
      "Document: Goldfish are popular pets for beginners, requiring relatively simple care.\n",
      "Metadata: {'source': 'fish-pets-doc'}\n",
      "Similarity Score: 1.6571111679077148\n",
      "\n"
     ]
    }
   ],
   "source": [
    "# Example query text\n",
    "query_text = \"dog\"\n",
    "\n",
    "# Get the embedding for the query text\n",
    "query_embedding = model.encode([query_text])\n",
    "\n",
    "# Search for similar documents\n",
    "results = collection.query(\n",
    "    query_embeddings=query_embedding.tolist(),\n",
    "    n_results=3,  # Number of results to retrieve\n",
    ")\n",
    "\n",
    "# Display results\n",
    "for doc, meta, distance in zip(results['documents'][0], results['metadatas'][0], results['distances'][0]):\n",
    "    print(\"Document:\", doc)\n",
    "    print(\"Metadata:\", meta)\n",
    "    print(\"Similarity Score:\", distance)\n",
    "    print()"
   ]
  },
  {
   "cell_type": "markdown",
   "id": "318bf275-8e83-4a42-99f5-ab8370ac437b",
   "metadata": {},
   "source": [
    "Create retriever"
   ]
  },
  {
   "cell_type": "code",
   "execution_count": 6,
   "id": "bc5aa309-b2b9-472c-93f9-e9c8e5916e88",
   "metadata": {
    "tags": []
   },
   "outputs": [
    {
     "data": {
      "text/plain": [
       "[{'ids': [['doc_1']],\n",
       "  'distances': [[0.935105562210083]],\n",
       "  'metadatas': [[{'source': 'mammal-pets-doc'}]],\n",
       "  'embeddings': None,\n",
       "  'documents': [['Cats are independent pets that often enjoy their own space.']],\n",
       "  'uris': None,\n",
       "  'data': None,\n",
       "  'included': ['metadatas', 'documents', 'distances']},\n",
       " {'ids': [['doc_0']],\n",
       "  'distances': [[1.1311126947402954]],\n",
       "  'metadatas': [[{'source': 'mammal-pets-doc'}]],\n",
       "  'embeddings': None,\n",
       "  'documents': [['Dogs are great companions, known for their loyalty and friendliness.']],\n",
       "  'uris': None,\n",
       "  'data': None,\n",
       "  'included': ['metadatas', 'documents', 'distances']}]"
      ]
     },
     "execution_count": 6,
     "metadata": {},
     "output_type": "execute_result"
    }
   ],
   "source": [
    "from langchain_core.runnables import RunnableLambda\n",
    "\n",
    "retriever = RunnableLambda(lambda query: collection.query(query_embeddings=model.encode([query]), n_results=1))  # select top result\n",
    "\n",
    "retriever.batch([\"cat\", \"dog\"])"
   ]
  },
  {
   "cell_type": "markdown",
   "id": "d360a2ba-fb03-43c1-8ae2-14e787ce3578",
   "metadata": {},
   "source": [
    "Define LLM model and prompt and chaining all modules"
   ]
  },
  {
   "cell_type": "code",
   "execution_count": 7,
   "id": "25d0724f-373a-4a99-865e-922e34abcd23",
   "metadata": {
    "tags": []
   },
   "outputs": [],
   "source": [
    "from langchain_google_vertexai import ChatVertexAI\n",
    "from langchain_core.prompts import ChatPromptTemplate\n",
    "from langchain_core.runnables import RunnablePassthrough\n",
    "\n",
    "llm = ChatVertexAI(model=\"gemini-1.5-flash\")\n",
    "\n",
    "message = \"\"\"\n",
    "Answer this question using the provided context only.\n",
    "\n",
    "{question}\n",
    "\n",
    "Context:\n",
    "{context}\n",
    "\"\"\"\n",
    "\n",
    "prompt = ChatPromptTemplate.from_messages([(\"human\", message)])\n",
    "\n",
    "rag_chain = {\"context\": retriever, \"question\": RunnablePassthrough()} | prompt | llm"
   ]
  },
  {
   "cell_type": "markdown",
   "id": "0ac7c031-c290-454e-8db5-89d9403032a3",
   "metadata": {},
   "source": [
    "Example chat"
   ]
  },
  {
   "cell_type": "code",
   "execution_count": 8,
   "id": "96058f68-a5d5-4b83-8ab7-62ec4209569f",
   "metadata": {
    "tags": []
   },
   "outputs": [
    {
     "name": "stderr",
     "output_type": "stream",
     "text": [
      "Retrying langchain_google_vertexai.chat_models._completion_with_retry.<locals>._completion_with_retry_inner in 4.0 seconds as it raised ResourceExhausted: 429 Quota exceeded for aiplatform.googleapis.com/generate_content_requests_per_minute_per_project_per_base_model with base model: gemini-1.5-flash. Please submit a quota increase request. https://cloud.google.com/vertex-ai/docs/generative-ai/quotas-genai..\n",
      "Retrying langchain_google_vertexai.chat_models._completion_with_retry.<locals>._completion_with_retry_inner in 4.0 seconds as it raised ResourceExhausted: 429 Quota exceeded for aiplatform.googleapis.com/generate_content_requests_per_minute_per_project_per_base_model with base model: gemini-1.5-flash. Please submit a quota increase request. https://cloud.google.com/vertex-ai/docs/generative-ai/quotas-genai..\n",
      "Retrying langchain_google_vertexai.chat_models._completion_with_retry.<locals>._completion_with_retry_inner in 4.0 seconds as it raised ResourceExhausted: 429 Quota exceeded for aiplatform.googleapis.com/generate_content_requests_per_minute_per_project_per_base_model with base model: gemini-1.5-flash. Please submit a quota increase request. https://cloud.google.com/vertex-ai/docs/generative-ai/quotas-genai..\n",
      "Retrying langchain_google_vertexai.chat_models._completion_with_retry.<locals>._completion_with_retry_inner in 8.0 seconds as it raised ResourceExhausted: 429 Quota exceeded for aiplatform.googleapis.com/generate_content_requests_per_minute_per_project_per_base_model with base model: gemini-1.5-flash. Please submit a quota increase request. https://cloud.google.com/vertex-ai/docs/generative-ai/quotas-genai..\n"
     ]
    },
    {
     "name": "stdout",
     "output_type": "stream",
     "text": [
      "According to the provided context, people love dogs because they are:\n",
      "\n",
      "* **Great companions:** This suggests dogs provide companionship and emotional support.\n",
      "* **Known for their loyalty:** Dogs are often seen as faithful and devoted friends.\n",
      "* **Friendly:** Dogs are generally known for their sociable and pleasant nature. \n",
      "\n"
     ]
    }
   ],
   "source": [
    "response = rag_chain.invoke(\"Why people love dogs?\")\n",
    "\n",
    "print(response.content)"
   ]
  }
 ],
 "metadata": {
  "environment": {
   "kernel": "python3",
   "name": "common-cu121.m123",
   "type": "gcloud",
   "uri": "us-docker.pkg.dev/deeplearning-platform-release/gcr.io/base-cu121:m123"
  },
  "kernelspec": {
   "display_name": "Python 3 (Local)",
   "language": "python",
   "name": "python3"
  },
  "language_info": {
   "codemirror_mode": {
    "name": "ipython",
    "version": 3
   },
   "file_extension": ".py",
   "mimetype": "text/x-python",
   "name": "python",
   "nbconvert_exporter": "python",
   "pygments_lexer": "ipython3",
   "version": "3.10.14"
  }
 },
 "nbformat": 4,
 "nbformat_minor": 5
}
